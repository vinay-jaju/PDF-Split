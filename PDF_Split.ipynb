{
  "nbformat": 4,
  "nbformat_minor": 0,
  "metadata": {
    "colab": {
      "name": "PDF Split.ipynb",
      "provenance": [],
      "collapsed_sections": [],
      "authorship_tag": "ABX9TyNcSqQt7VoBxagCnvLNqbMP",
      "include_colab_link": true
    },
    "kernelspec": {
      "name": "python3",
      "display_name": "Python 3"
    }
  },
  "cells": [
    {
      "cell_type": "markdown",
      "metadata": {
        "id": "view-in-github",
        "colab_type": "text"
      },
      "source": [
        "<a href=\"https://colab.research.google.com/github/vinay-jaju/PDF-Split/blob/main/PDF_Split.ipynb\" target=\"_parent\"><img src=\"https://colab.research.google.com/assets/colab-badge.svg\" alt=\"Open In Colab\"/></a>"
      ]
    },
    {
      "cell_type": "code",
      "metadata": {
        "id": "cGyCHDZE_UiE",
        "outputId": "b772ace0-41b2-4f50-c31a-d6e969016bc5",
        "colab": {
          "base_uri": "https://localhost:8080/"
        }
      },
      "source": [
        "!pip3 install PIL\n",
        "!pip3 install pytesseract\n",
        "!pip3 install pdf2image\n",
        "!sudo apt-get install tesseract-ocr"
      ],
      "execution_count": null,
      "outputs": [
        {
          "output_type": "stream",
          "text": [
            "\u001b[31mERROR: Could not find a version that satisfies the requirement PIL (from versions: none)\u001b[0m\n",
            "\u001b[31mERROR: No matching distribution found for PIL\u001b[0m\n",
            "Collecting pytesseract\n",
            "  Downloading https://files.pythonhosted.org/packages/17/4b/4dbd55388225bb6cd243d21f70e77cb3ce061e241257485936324b8e920f/pytesseract-0.3.6.tar.gz\n",
            "Requirement already satisfied: Pillow in /usr/local/lib/python3.6/dist-packages (from pytesseract) (7.0.0)\n",
            "Building wheels for collected packages: pytesseract\n",
            "  Building wheel for pytesseract (setup.py) ... \u001b[?25l\u001b[?25hdone\n",
            "  Created wheel for pytesseract: filename=pytesseract-0.3.6-py2.py3-none-any.whl size=13629 sha256=e11cc88fa67a306ec99b500fde36807bbe356f0252de0168ec1994562cd29f3b\n",
            "  Stored in directory: /root/.cache/pip/wheels/ee/71/72/b98430261d849ae631e283dfc7ccb456a3fb2ed2205714b63f\n",
            "Successfully built pytesseract\n",
            "Installing collected packages: pytesseract\n",
            "Successfully installed pytesseract-0.3.6\n",
            "Collecting pdf2image\n",
            "  Downloading https://files.pythonhosted.org/packages/03/62/089030fd16ab3e5c245315d63c80b29250b8f9e4579b5a09306eb7e7539c/pdf2image-1.14.0-py3-none-any.whl\n",
            "Requirement already satisfied: pillow in /usr/local/lib/python3.6/dist-packages (from pdf2image) (7.0.0)\n",
            "Installing collected packages: pdf2image\n",
            "Successfully installed pdf2image-1.14.0\n",
            "Reading package lists... Done\n",
            "Building dependency tree       \n",
            "Reading state information... Done\n",
            "The following additional packages will be installed:\n",
            "  tesseract-ocr-eng tesseract-ocr-osd\n",
            "The following NEW packages will be installed:\n",
            "  tesseract-ocr tesseract-ocr-eng tesseract-ocr-osd\n",
            "0 upgraded, 3 newly installed, 0 to remove and 21 not upgraded.\n",
            "Need to get 4,795 kB of archives.\n",
            "After this operation, 15.8 MB of additional disk space will be used.\n",
            "Get:1 http://archive.ubuntu.com/ubuntu bionic/universe amd64 tesseract-ocr-eng all 4.00~git24-0e00fe6-1.2 [1,588 kB]\n",
            "Get:2 http://archive.ubuntu.com/ubuntu bionic/universe amd64 tesseract-ocr-osd all 4.00~git24-0e00fe6-1.2 [2,989 kB]\n",
            "Get:3 http://archive.ubuntu.com/ubuntu bionic/universe amd64 tesseract-ocr amd64 4.00~git2288-10f4998a-2 [218 kB]\n",
            "Fetched 4,795 kB in 0s (25.1 MB/s)\n",
            "debconf: unable to initialize frontend: Dialog\n",
            "debconf: (No usable dialog-like program is installed, so the dialog based frontend cannot be used. at /usr/share/perl5/Debconf/FrontEnd/Dialog.pm line 76, <> line 3.)\n",
            "debconf: falling back to frontend: Readline\n",
            "debconf: unable to initialize frontend: Readline\n",
            "debconf: (This frontend requires a controlling tty.)\n",
            "debconf: falling back to frontend: Teletype\n",
            "dpkg-preconfigure: unable to re-open stdin: \n",
            "Selecting previously unselected package tesseract-ocr-eng.\n",
            "(Reading database ... 144611 files and directories currently installed.)\n",
            "Preparing to unpack .../tesseract-ocr-eng_4.00~git24-0e00fe6-1.2_all.deb ...\n",
            "Unpacking tesseract-ocr-eng (4.00~git24-0e00fe6-1.2) ...\n",
            "Selecting previously unselected package tesseract-ocr-osd.\n",
            "Preparing to unpack .../tesseract-ocr-osd_4.00~git24-0e00fe6-1.2_all.deb ...\n",
            "Unpacking tesseract-ocr-osd (4.00~git24-0e00fe6-1.2) ...\n",
            "Selecting previously unselected package tesseract-ocr.\n",
            "Preparing to unpack .../tesseract-ocr_4.00~git2288-10f4998a-2_amd64.deb ...\n",
            "Unpacking tesseract-ocr (4.00~git2288-10f4998a-2) ...\n",
            "Setting up tesseract-ocr-osd (4.00~git24-0e00fe6-1.2) ...\n",
            "Setting up tesseract-ocr-eng (4.00~git24-0e00fe6-1.2) ...\n",
            "Setting up tesseract-ocr (4.00~git2288-10f4998a-2) ...\n",
            "Processing triggers for man-db (2.8.3-2ubuntu0.1) ...\n"
          ],
          "name": "stdout"
        }
      ]
    },
    {
      "cell_type": "code",
      "metadata": {
        "id": "y5kb753CAQ8V",
        "outputId": "ca167fe5-4efe-4cf9-da80-e68a0532456c",
        "colab": {
          "base_uri": "https://localhost:8080/"
        }
      },
      "source": [
        "!apt-get install poppler-utils"
      ],
      "execution_count": null,
      "outputs": [
        {
          "output_type": "stream",
          "text": [
            "Reading package lists... Done\n",
            "Building dependency tree       \n",
            "Reading state information... Done\n",
            "The following NEW packages will be installed:\n",
            "  poppler-utils\n",
            "0 upgraded, 1 newly installed, 0 to remove and 21 not upgraded.\n",
            "Need to get 154 kB of archives.\n",
            "After this operation, 613 kB of additional disk space will be used.\n",
            "Get:1 http://archive.ubuntu.com/ubuntu bionic-updates/main amd64 poppler-utils amd64 0.62.0-2ubuntu2.10 [154 kB]\n",
            "Fetched 154 kB in 0s (2,012 kB/s)\n",
            "Selecting previously unselected package poppler-utils.\n",
            "(Reading database ... 144658 files and directories currently installed.)\n",
            "Preparing to unpack .../poppler-utils_0.62.0-2ubuntu2.10_amd64.deb ...\n",
            "Unpacking poppler-utils (0.62.0-2ubuntu2.10) ...\n",
            "Setting up poppler-utils (0.62.0-2ubuntu2.10) ...\n",
            "Processing triggers for man-db (2.8.3-2ubuntu0.1) ...\n"
          ],
          "name": "stdout"
        }
      ]
    },
    {
      "cell_type": "code",
      "metadata": {
        "id": "__0TL3rg_VrQ",
        "outputId": "89942e3f-2dc4-49e0-a108-813a3b190295",
        "colab": {
          "base_uri": "https://localhost:8080/",
          "height": 996
        }
      },
      "source": [
        "\n",
        "# Import libraries \n",
        "from PIL import Image \n",
        "import pytesseract \n",
        "import sys \n",
        "from pdf2image import convert_from_path \n",
        "import os \n",
        "import re\n",
        "  \n",
        "# Path of the pdf \n",
        "PDF_file = \"IIM Sirmaur.pdf\"\n",
        "  \n",
        "array_rolls=[]\n",
        "  \n",
        "# Store all the pages of the PDF in a variable \n",
        "pages = convert_from_path(PDF_file, 200) \n",
        "  \n",
        "# Counter to store images of each page of PDF to image \n",
        "image_counter = 1\n",
        "  \n",
        "# Iterate through all the pages stored above \n",
        "for page in pages: \n",
        "  \n",
        "    # Declaring filename for each page of PDF as JPG \n",
        "    # For each page, filename will be: \n",
        "    # PDF page 1 -> page_1.jpg \n",
        "    # PDF page 2 -> page_2.jpg \n",
        "    # PDF page 3 -> page_3.jpg \n",
        "    # .... \n",
        "    # PDF page n -> page_n.jpg \n",
        "    filename = \"page_\"+str(image_counter)+\".jpg\"\n",
        "      \n",
        "    # Save the image of the page in system \n",
        "    page.save(filename, 'JPEG') \n",
        "  \n",
        "    # Increment the counter to update filename \n",
        "    image_counter = image_counter + 1\n",
        "  \n",
        "''' \n",
        "Part #2 - Recognizing text from the images using OCR \n",
        "'''\n",
        "# Variable to get count of total number of pages \n",
        "filelimit = image_counter-1\n",
        "  \n",
        "# Creating a text file to write the output \n",
        "outfile = \"out_text.txt\"\n",
        "  \n",
        "# Open the file in append mode so that  \n",
        "# All contents of all images are added to the same file \n",
        "f = open(outfile, \"a\") \n",
        "  \n",
        "# Iterate from 1 to total number of pages \n",
        "for i in range(1, filelimit + 1): \n",
        "  \n",
        "    # Set filename to recognize text from \n",
        "    # Again, these files will be: \n",
        "    # page_1.jpg \n",
        "    # page_2.jpg \n",
        "    # .... \n",
        "    # page_n.jpg \n",
        "    filename = \"page_\"+str(i)+\".jpg\"\n",
        "          \n",
        "    # Recognize the text as string in image using pytesserct \n",
        "    text = str(((pytesseract.image_to_string(Image.open(filename))))) \n",
        "\n",
        "    # The recognized text is stored in variable text \n",
        "    # Any string processing may be applied on text \n",
        "    # Here, basic formatting has been done: \n",
        "    # In many PDFs, at line ending, if a word can't \n",
        "    # be written fully, a 'hyphen' is added. \n",
        "    # The rest of the word is written in the next line \n",
        "    # Eg: This is a sample text this word here GeeksF- \n",
        "    # orGeeks is half on first line, remaining on next. \n",
        "    # To remove this, we replace every '-\\n' to ''. \n",
        "    text = text.replace('-\\n', '')  \n",
        "    firstname = re.findall(r'This is to certify that ([A-za-z.]*) ([^,]*)',text) \n",
        "    print(i, firstname[0][1])   \n",
        "    #print(i,re.findall(r'This is to certify that (Mr.|Ms.) \\s*(\\S+) \\s*(\\S+)',text)) \n",
        "    \n",
        "    #array_rolls.append(re.findall(r'MBA\\d\\d\\d\\d\\d',text)) \n",
        "    # Finally, write the processed text to the file. \n",
        "    #f.write(text) \n",
        "\n",
        "\n",
        "# Close the file after writing all the text. \n",
        "f.close() \n"
      ],
      "execution_count": null,
      "outputs": [
        {
          "output_type": "stream",
          "text": [
            "1 Priyanka Garg\n",
            "2 Manasi Dubey\n",
            "3 Ariba Baig\n",
            "4 Nitya Tulsyan\n",
            "5 Sunidhi Mishra\n",
            "6 Afreen Islam\n",
            "7 V Roshan Kumar\n",
            "8 Sartaz Singh\n",
            "9 Sanam Malkat\n",
            "10 Sourabh Thakur\n",
            "11 Abhishek Chechi\n",
            "12 Rajat Kumar\n",
            "13 Sachin Yadav\n",
            "14 Joydeep Pegu\n",
            "15 Nallamothu Siva Venkata Sai Jagannath\n",
            "16 Anubhav Sinha\n",
            "17 Ishan Chapadgaonkar\n",
            "18 Siddeshwar Vashitha\n",
            "19 Dhruv Rinwa\n",
            "20 Aashish Kumar\n",
            "21 Hitesh Deshpande\n",
            "22 Jivesh Bodh\n",
            "23 Harbhajan Singh Sandhu\n",
            "24 Abhishek Sinha\n",
            "25 Shashank Yadav\n",
            "26 Ujwal.S\n",
            "27 Vikas Garg\n",
            "28 Vipul Ghai\n",
            "29 Ruchit Arora\n",
            "30 Aditya Sunil Shinde\n",
            "31 Rachit Mishra\n",
            "32 Sankalp Verma\n",
            "33 Tahir Khan Chouhan\n",
            "34 Vedant Tiwari\n",
            "35 Rohit Roy\n",
            "36 Diptanil Sarkar\n",
            "37 Narender Kumar\n",
            "38 Ajzal Kabeer\n",
            "39 Sanjana Gupta\n"
          ],
          "name": "stdout"
        },
        {
          "output_type": "error",
          "ename": "IndexError",
          "evalue": "ignored",
          "traceback": [
            "\u001b[0;31m---------------------------------------------------------------------------\u001b[0m",
            "\u001b[0;31mIndexError\u001b[0m                                Traceback (most recent call last)",
            "\u001b[0;32m<ipython-input-16-f3703cb217d9>\u001b[0m in \u001b[0;36m<module>\u001b[0;34m()\u001b[0m\n\u001b[1;32m     75\u001b[0m     \u001b[0mtext\u001b[0m \u001b[0;34m=\u001b[0m \u001b[0mtext\u001b[0m\u001b[0;34m.\u001b[0m\u001b[0mreplace\u001b[0m\u001b[0;34m(\u001b[0m\u001b[0;34m'-\\n'\u001b[0m\u001b[0;34m,\u001b[0m \u001b[0;34m''\u001b[0m\u001b[0;34m)\u001b[0m\u001b[0;34m\u001b[0m\u001b[0;34m\u001b[0m\u001b[0m\n\u001b[1;32m     76\u001b[0m     \u001b[0mfirstname\u001b[0m \u001b[0;34m=\u001b[0m \u001b[0mre\u001b[0m\u001b[0;34m.\u001b[0m\u001b[0mfindall\u001b[0m\u001b[0;34m(\u001b[0m\u001b[0;34mr'This is to certify that ([A-za-z.]*) ([^,]*)'\u001b[0m\u001b[0;34m,\u001b[0m\u001b[0mtext\u001b[0m\u001b[0;34m)\u001b[0m\u001b[0;34m\u001b[0m\u001b[0;34m\u001b[0m\u001b[0m\n\u001b[0;32m---> 77\u001b[0;31m     \u001b[0mprint\u001b[0m\u001b[0;34m(\u001b[0m\u001b[0mi\u001b[0m\u001b[0;34m,\u001b[0m \u001b[0mfirstname\u001b[0m\u001b[0;34m[\u001b[0m\u001b[0;36m0\u001b[0m\u001b[0;34m]\u001b[0m\u001b[0;34m[\u001b[0m\u001b[0;36m1\u001b[0m\u001b[0;34m]\u001b[0m\u001b[0;34m)\u001b[0m\u001b[0;34m\u001b[0m\u001b[0;34m\u001b[0m\u001b[0m\n\u001b[0m\u001b[1;32m     78\u001b[0m     \u001b[0;31m#print(i,re.findall(r'This is to certify that (Mr.|Ms.) \\s*(\\S+) \\s*(\\S+)',text))\u001b[0m\u001b[0;34m\u001b[0m\u001b[0;34m\u001b[0m\u001b[0;34m\u001b[0m\u001b[0m\n\u001b[1;32m     79\u001b[0m \u001b[0;34m\u001b[0m\u001b[0m\n",
            "\u001b[0;31mIndexError\u001b[0m: list index out of range"
          ]
        }
      ]
    },
    {
      "cell_type": "code",
      "metadata": {
        "id": "2hDGDjS3_z46"
      },
      "source": [
        "array_roll=['Priyanka Garg',\n",
        "'Manasi Dubey',\n",
        "'Ariba Baig',\n",
        "'Nitya Tulsyan',\n",
        "'Sunidhi Mishra',\n",
        "'Afreen Islam',\n",
        "'G V Roshan Kumar',\n",
        "'Sartaz Singh',\n",
        "'Sanam Malkat',\n",
        "'Sourabh Thakur',\n",
        "'Abhishek Chechi',\n",
        "'Rajat Kumar',\n",
        "'Sachin Yadav',\n",
        "'Joydeep Pegu',\n",
        "'Nallamothu Siva Venkata Sai Jagannath',\n",
        "'Anubhav Sinha',\n",
        "'Ishan Chapadgaonkar',\n",
        "'Siddeshwar Vashitha',\n",
        "'Dhruv Rinwa',\n",
        "'Aashish Kumar',\n",
        "'Hitesh Deshpande',\n",
        "'Jivesh Bodh',\n",
        "'Harbhajan Singh Sandhu',\n",
        "'Abhishek Sinha',\n",
        "'Shashank Yadav',\n",
        "'Ujwal.S',\n",
        "'Vikas Garg',\n",
        "'Vipul Ghai',\n",
        "'Ruchit Arora',\n",
        "'Aditya Sunil Shinde',\n",
        "'Rachit Mishra',\n",
        "'Sankalp Verma',\n",
        "'Tahir Khan Chouhan',\n",
        "'Vedant Tiwari',\n",
        "'Rohit Roy',\n",
        "'Diptanil Sarkar',\n",
        "'Narender Kumar',\n",
        "'Ajzal Kabeer',\n",
        "'Sanjana Gupta',\n",
        "'Preeti']"
      ],
      "execution_count": null,
      "outputs": []
    },
    {
      "cell_type": "code",
      "metadata": {
        "id": "knf99LaTC1t-",
        "outputId": "7b82cb1d-4117-47b0-bffc-ee0736373248",
        "colab": {
          "base_uri": "https://localhost:8080/"
        }
      },
      "source": [
        "\n",
        "# Import libraries \n",
        "from PIL import Image \n",
        "import pytesseract \n",
        "import sys \n",
        "from pdf2image import convert_from_path \n",
        "import os \n",
        "  \n",
        "# Path of the pdf \n",
        "PDF_file = \"IIM Sirmaur.pdf\"\n",
        "  \n",
        "# Store all the pages of the PDF in a variable \n",
        "pages = convert_from_path(PDF_file, 200) \n",
        "  \n",
        "# Counter to store images of each page of PDF to image \n",
        "image_counter = 0\n",
        "  \n",
        "# Iterate through all the pages stored above \n",
        "for page in pages: \n",
        "  \n",
        "    # Declaring filename for each page of PDF as JPG \n",
        "    # For each page, filename will be: \n",
        "    # PDF page 1 -> page_1.jpg \n",
        "    # PDF page 2 -> page_2.jpg \n",
        "    # PDF page 3 -> page_3.jpg \n",
        "    # .... \n",
        "    # PDF page n -> page_n.jpg \n",
        "    filename = \"pdfs/\"+array_roll[image_counter]+\".pdf\"\n",
        "    print(array_roll[image_counter])  \n",
        "    # Save the image of the page in system \n",
        "    page.save(filename, 'PDF') \n",
        "  \n",
        "    # Increment the counter to update filename \n",
        "    image_counter = image_counter + 1\n",
        "  "
      ],
      "execution_count": null,
      "outputs": [
        {
          "output_type": "stream",
          "text": [
            "Priyanka Garg\n",
            "Manasi Dubey\n",
            "Ariba Baig\n",
            "Nitya Tulsyan\n",
            "Sunidhi Mishra\n",
            "Afreen Islam\n",
            "G V Roshan Kumar\n",
            "Sartaz Singh\n",
            "Sanam Malkat\n",
            "Sourabh Thakur\n",
            "Abhishek Chechi\n",
            "Rajat Kumar\n",
            "Sachin Yadav\n",
            "Joydeep Pegu\n",
            "Nallamothu Siva Venkata Sai Jagannath\n",
            "Anubhav Sinha\n",
            "Ishan Chapadgaonkar\n",
            "Siddeshwar Vashitha\n",
            "Dhruv Rinwa\n",
            "Aashish Kumar\n",
            "Hitesh Deshpande\n",
            "Jivesh Bodh\n",
            "Harbhajan Singh Sandhu\n",
            "Abhishek Sinha\n",
            "Shashank Yadav\n",
            "Ujwal.S\n",
            "Vikas Garg\n",
            "Vipul Ghai\n",
            "Ruchit Arora\n",
            "Aditya Sunil Shinde\n",
            "Rachit Mishra\n",
            "Sankalp Verma\n",
            "Tahir Khan Chouhan\n",
            "Vedant Tiwari\n",
            "Rohit Roy\n",
            "Diptanil Sarkar\n",
            "Narender Kumar\n",
            "Ajzal Kabeer\n",
            "Sanjana Gupta\n",
            "Preeti\n"
          ],
          "name": "stdout"
        }
      ]
    },
    {
      "cell_type": "code",
      "metadata": {
        "id": "iwnKghyFJP8y"
      },
      "source": [
        "!rm -rf pdfs"
      ],
      "execution_count": null,
      "outputs": []
    },
    {
      "cell_type": "code",
      "metadata": {
        "id": "ngRRJp9SK4en",
        "outputId": "0f545aab-3f1e-4e6c-d7d1-a7b42aec8f89",
        "colab": {
          "base_uri": "https://localhost:8080/"
        }
      },
      "source": [
        "!zip -r /content/pdfs.zip /content/pdfs"
      ],
      "execution_count": null,
      "outputs": [
        {
          "output_type": "stream",
          "text": [
            "  adding: content/pdfs/ (stored 0%)\n",
            "  adding: content/pdfs/Sourabh Thakur.pdf (deflated 33%)\n",
            "  adding: content/pdfs/Harbhajan Singh Sandhu.pdf (deflated 32%)\n",
            "  adding: content/pdfs/Manasi Dubey.pdf (deflated 26%)\n",
            "  adding: content/pdfs/Sachin Yadav.pdf (deflated 26%)\n",
            "  adding: content/pdfs/Jivesh Bodh.pdf (deflated 33%)\n",
            "  adding: content/pdfs/Anubhav Sinha.pdf (deflated 26%)\n",
            "  adding: content/pdfs/Ujwal.S.pdf (deflated 32%)\n",
            "  adding: content/pdfs/Diptanil Sarkar.pdf (deflated 33%)\n",
            "  adding: content/pdfs/G V Roshan Kumar.pdf (deflated 33%)\n",
            "  adding: content/pdfs/Ajzal Kabeer.pdf (deflated 33%)\n",
            "  adding: content/pdfs/Sanjana Gupta.pdf (deflated 33%)\n",
            "  adding: content/pdfs/Ruchit Arora.pdf (deflated 32%)\n",
            "  adding: content/pdfs/Narender Kumar.pdf (deflated 33%)\n",
            "  adding: content/pdfs/Vipul Ghai.pdf (deflated 32%)\n",
            "  adding: content/pdfs/Sartaz Singh.pdf (deflated 32%)\n",
            "  adding: content/pdfs/Ishan Chapadgaonkar.pdf (deflated 26%)\n",
            "  adding: content/pdfs/Hitesh Deshpande.pdf (deflated 33%)\n",
            "  adding: content/pdfs/Abhishek Sinha.pdf (deflated 32%)\n",
            "  adding: content/pdfs/Shashank Yadav.pdf (deflated 32%)\n",
            "  adding: content/pdfs/Ariba Baig.pdf (deflated 32%)\n",
            "  adding: content/pdfs/Vedant Tiwari.pdf (deflated 33%)\n",
            "  adding: content/pdfs/Abhishek Chechi.pdf (deflated 26%)\n",
            "  adding: content/pdfs/Vikas Garg.pdf (deflated 32%)\n",
            "  adding: content/pdfs/Nallamothu Siva Venkata Sai Jagannath.pdf (deflated 26%)\n",
            "  adding: content/pdfs/Afreen Islam.pdf (deflated 26%)\n",
            "  adding: content/pdfs/Siddeshwar Vashitha.pdf (deflated 26%)\n",
            "  adding: content/pdfs/Aashish Kumar.pdf (deflated 33%)\n",
            "  adding: content/pdfs/Dhruv Rinwa.pdf (deflated 26%)\n",
            "  adding: content/pdfs/Sunidhi Mishra.pdf (deflated 26%)\n",
            "  adding: content/pdfs/Rajat Kumar.pdf (deflated 26%)\n",
            "  adding: content/pdfs/Tahir Khan Chouhan.pdf (deflated 33%)\n",
            "  adding: content/pdfs/Sanam Malkat.pdf (deflated 33%)\n",
            "  adding: content/pdfs/Sankalp Verma.pdf (deflated 33%)\n",
            "  adding: content/pdfs/Nitya Tulsyan.pdf (deflated 33%)\n",
            "  adding: content/pdfs/Rohit Roy.pdf (deflated 33%)\n",
            "  adding: content/pdfs/Joydeep Pegu.pdf (deflated 26%)\n",
            "  adding: content/pdfs/Rachit Mishra.pdf (deflated 32%)\n",
            "  adding: content/pdfs/Preeti.pdf (deflated 33%)\n",
            "  adding: content/pdfs/Priyanka Garg.pdf (deflated 33%)\n",
            "  adding: content/pdfs/Aditya Sunil Shinde.pdf (deflated 32%)\n"
          ],
          "name": "stdout"
        }
      ]
    },
    {
      "cell_type": "code",
      "metadata": {
        "id": "YnwOhbIhL7PS",
        "outputId": "af5fc709-4345-4bb5-c72a-195342282fcf",
        "colab": {
          "base_uri": "https://localhost:8080/",
          "height": 17
        }
      },
      "source": [
        "from google.colab import files\n",
        "files.download(\"/content/pdfs.zip\")"
      ],
      "execution_count": null,
      "outputs": [
        {
          "output_type": "display_data",
          "data": {
            "application/javascript": [
              "\n",
              "    async function download(id, filename, size) {\n",
              "      if (!google.colab.kernel.accessAllowed) {\n",
              "        return;\n",
              "      }\n",
              "      const div = document.createElement('div');\n",
              "      const label = document.createElement('label');\n",
              "      label.textContent = `Downloading \"${filename}\": `;\n",
              "      div.appendChild(label);\n",
              "      const progress = document.createElement('progress');\n",
              "      progress.max = size;\n",
              "      div.appendChild(progress);\n",
              "      document.body.appendChild(div);\n",
              "\n",
              "      const buffers = [];\n",
              "      let downloaded = 0;\n",
              "\n",
              "      const channel = await google.colab.kernel.comms.open(id);\n",
              "      // Send a message to notify the kernel that we're ready.\n",
              "      channel.send({})\n",
              "\n",
              "      for await (const message of channel.messages) {\n",
              "        // Send a message to notify the kernel that we're ready.\n",
              "        channel.send({})\n",
              "        if (message.buffers) {\n",
              "          for (const buffer of message.buffers) {\n",
              "            buffers.push(buffer);\n",
              "            downloaded += buffer.byteLength;\n",
              "            progress.value = downloaded;\n",
              "          }\n",
              "        }\n",
              "      }\n",
              "      const blob = new Blob(buffers, {type: 'application/binary'});\n",
              "      const a = document.createElement('a');\n",
              "      a.href = window.URL.createObjectURL(blob);\n",
              "      a.download = filename;\n",
              "      div.appendChild(a);\n",
              "      a.click();\n",
              "      div.remove();\n",
              "    }\n",
              "  "
            ],
            "text/plain": [
              "<IPython.core.display.Javascript object>"
            ]
          },
          "metadata": {
            "tags": []
          }
        },
        {
          "output_type": "display_data",
          "data": {
            "application/javascript": [
              "download(\"download_933cf62d-98c2-4b9b-b693-2759cf2d35f5\", \"pdfs.zip\", 5280444)"
            ],
            "text/plain": [
              "<IPython.core.display.Javascript object>"
            ]
          },
          "metadata": {
            "tags": []
          }
        }
      ]
    },
    {
      "cell_type": "code",
      "metadata": {
        "id": "l_e6Z2unMUTD"
      },
      "source": [
        ""
      ],
      "execution_count": null,
      "outputs": []
    }
  ]
}